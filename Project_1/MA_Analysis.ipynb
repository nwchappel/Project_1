{
 "cells": [
  {
   "cell_type": "markdown",
   "metadata": {},
   "source": [
    "# Lung Cancer incidence in Massachusetts\n",
    "---\n",
    "This script explores the relationship between counties in US with  lung cancer incidence, polution and economic variables.\n",
    "In this script we show the relationship between Lung Cancer incidence for 2016 with various socioeconomic parameters \n",
    "The sources of data are Lung Cancer, 2016 EPA polution, US Census 2016 and Google Places API."
   ]
  },
  {
   "cell_type": "code",
   "execution_count": 1,
   "metadata": {},
   "outputs": [],
   "source": [
    "# Dependencies\n",
    "import gmaps\n",
    "import numpy as np\n",
    "import pandas as pd\n",
    "import csv\n",
    "import matplotlib.pyplot as plt\n",
    "import scipy.stats as st\n",
    "from scipy.stats import linregress\n",
    "\n",
    "# Google developer API key\n",
    "from config import gkey"
   ]
  },
  {
   "cell_type": "code",
   "execution_count": 2,
   "metadata": {
    "scrolled": true
   },
   "outputs": [],
   "source": [
    "# cleaned data from several sources\n",
    "data_df = pd.read_excel(\"Resources/Project_County_Data_Final.xlsx\")\n",
    "data_df[\"Cancer Prevalence per 1000\"]=data_df[\"Lung Cancer Case Count\"]/data_df[\"County Population\"]*1000\n",
    "del data_df[\"Cancer\"]\n",
    "del data_df[\"Lung Cancer Case Count\"]\n",
    "del data_df[\"Unnamed: 0\"]\n",
    "\n",
    "data_df= data_df.loc[data_df[\"State\"] == \"Massachusetts\"]\n"
   ]
  },
  {
   "cell_type": "markdown",
   "metadata": {},
   "source": [
    "# Establish Correlations between variables"
   ]
  },
  {
   "cell_type": "code",
   "execution_count": 3,
   "metadata": {
    "scrolled": true
   },
   "outputs": [],
   "source": [
    "\n",
    "data_dfcorr=data_df\n",
    "data_corr = data_dfcorr.corr()\n",
    "corr_df = []\n",
    "corr_df=data_corr.unstack().sort_values()\n",
    "corr_df = pd.DataFrame(corr_df).reset_index()\n",
    "corr_df.columns=[\"var1\", \"var2\", \"r_corr\" ]\n",
    "corr_df=corr_df.loc[corr_df[\"r_corr\"] != 1]\n",
    "corr_df['abs']= abs(corr_df[\"r_corr\"])\n",
    "corr_df=corr_df.sort_values([\"abs\"],ascending=False )\n",
    "#corr_df\n"
   ]
  },
  {
   "cell_type": "code",
   "execution_count": 4,
   "metadata": {},
   "outputs": [
    {
     "data": {
      "text/html": [
       "<div>\n",
       "<style scoped>\n",
       "    .dataframe tbody tr th:only-of-type {\n",
       "        vertical-align: middle;\n",
       "    }\n",
       "\n",
       "    .dataframe tbody tr th {\n",
       "        vertical-align: top;\n",
       "    }\n",
       "\n",
       "    .dataframe thead th {\n",
       "        text-align: right;\n",
       "    }\n",
       "</style>\n",
       "<table border=\"1\" class=\"dataframe\">\n",
       "  <thead>\n",
       "    <tr style=\"text-align: right;\">\n",
       "      <th></th>\n",
       "      <th>var1</th>\n",
       "      <th>var2</th>\n",
       "      <th>r_corr</th>\n",
       "      <th>abs</th>\n",
       "    </tr>\n",
       "  </thead>\n",
       "  <tbody>\n",
       "    <tr>\n",
       "      <th>22</th>\n",
       "      <td>Cancer Prevalence per 1000</td>\n",
       "      <td>Days NO2</td>\n",
       "      <td>-0.514534</td>\n",
       "      <td>0.514534</td>\n",
       "    </tr>\n",
       "    <tr>\n",
       "      <th>27</th>\n",
       "      <td>Cancer Prevalence per 1000</td>\n",
       "      <td>County Population</td>\n",
       "      <td>-0.505986</td>\n",
       "      <td>0.505986</td>\n",
       "    </tr>\n",
       "    <tr>\n",
       "      <th>35</th>\n",
       "      <td>Cancer Prevalence per 1000</td>\n",
       "      <td>Days PM10</td>\n",
       "      <td>-0.434234</td>\n",
       "      <td>0.434234</td>\n",
       "    </tr>\n",
       "    <tr>\n",
       "      <th>38</th>\n",
       "      <td>Cancer Prevalence per 1000</td>\n",
       "      <td>Moderate Days</td>\n",
       "      <td>-0.410362</td>\n",
       "      <td>0.410362</td>\n",
       "    </tr>\n",
       "    <tr>\n",
       "      <th>209</th>\n",
       "      <td>Cancer Prevalence per 1000</td>\n",
       "      <td>Good Days</td>\n",
       "      <td>0.405238</td>\n",
       "      <td>0.405238</td>\n",
       "    </tr>\n",
       "    <tr>\n",
       "      <th>40</th>\n",
       "      <td>Cancer Prevalence per 1000</td>\n",
       "      <td>Latitude</td>\n",
       "      <td>-0.402023</td>\n",
       "      <td>0.402023</td>\n",
       "    </tr>\n",
       "    <tr>\n",
       "      <th>55</th>\n",
       "      <td>Cancer Prevalence per 1000</td>\n",
       "      <td>Unhealthy Days</td>\n",
       "      <td>-0.299060</td>\n",
       "      <td>0.299060</td>\n",
       "    </tr>\n",
       "    <tr>\n",
       "      <th>74</th>\n",
       "      <td>Cancer Prevalence per 1000</td>\n",
       "      <td>Max AQI</td>\n",
       "      <td>-0.218689</td>\n",
       "      <td>0.218689</td>\n",
       "    </tr>\n",
       "    <tr>\n",
       "      <th>163</th>\n",
       "      <td>Cancer Prevalence per 1000</td>\n",
       "      <td>Longitude</td>\n",
       "      <td>0.156574</td>\n",
       "      <td>0.156574</td>\n",
       "    </tr>\n",
       "    <tr>\n",
       "      <th>98</th>\n",
       "      <td>Cancer Prevalence per 1000</td>\n",
       "      <td>Household Income</td>\n",
       "      <td>-0.151105</td>\n",
       "      <td>0.151105</td>\n",
       "    </tr>\n",
       "    <tr>\n",
       "      <th>161</th>\n",
       "      <td>Cancer Prevalence per 1000</td>\n",
       "      <td>Percent Uninsured</td>\n",
       "      <td>0.137111</td>\n",
       "      <td>0.137111</td>\n",
       "    </tr>\n",
       "    <tr>\n",
       "      <th>158</th>\n",
       "      <td>Cancer Prevalence per 1000</td>\n",
       "      <td>Days PM2.5</td>\n",
       "      <td>0.130085</td>\n",
       "      <td>0.130085</td>\n",
       "    </tr>\n",
       "    <tr>\n",
       "      <th>101</th>\n",
       "      <td>Cancer Prevalence per 1000</td>\n",
       "      <td>Unhealthy for Sensitive Groups Days</td>\n",
       "      <td>-0.127913</td>\n",
       "      <td>0.127913</td>\n",
       "    </tr>\n",
       "    <tr>\n",
       "      <th>112</th>\n",
       "      <td>Cancer Prevalence per 1000</td>\n",
       "      <td>Days Ozone</td>\n",
       "      <td>-0.067283</td>\n",
       "      <td>0.067283</td>\n",
       "    </tr>\n",
       "    <tr>\n",
       "      <th>122</th>\n",
       "      <td>Cancer Prevalence per 1000</td>\n",
       "      <td>Percent Adult Smokers</td>\n",
       "      <td>-0.051303</td>\n",
       "      <td>0.051303</td>\n",
       "    </tr>\n",
       "    <tr>\n",
       "      <th>396</th>\n",
       "      <td>Cancer Prevalence per 1000</td>\n",
       "      <td>Very Unhealthy Days</td>\n",
       "      <td>NaN</td>\n",
       "      <td>NaN</td>\n",
       "    </tr>\n",
       "    <tr>\n",
       "      <th>397</th>\n",
       "      <td>Cancer Prevalence per 1000</td>\n",
       "      <td>Hazardous Days</td>\n",
       "      <td>NaN</td>\n",
       "      <td>NaN</td>\n",
       "    </tr>\n",
       "    <tr>\n",
       "      <th>398</th>\n",
       "      <td>Cancer Prevalence per 1000</td>\n",
       "      <td>Days CO</td>\n",
       "      <td>NaN</td>\n",
       "      <td>NaN</td>\n",
       "    </tr>\n",
       "    <tr>\n",
       "      <th>399</th>\n",
       "      <td>Cancer Prevalence per 1000</td>\n",
       "      <td>Days SO2</td>\n",
       "      <td>NaN</td>\n",
       "      <td>NaN</td>\n",
       "    </tr>\n",
       "  </tbody>\n",
       "</table>\n",
       "</div>"
      ],
      "text/plain": [
       "                           var1                                 var2  \\\n",
       "22   Cancer Prevalence per 1000                             Days NO2   \n",
       "27   Cancer Prevalence per 1000                    County Population   \n",
       "35   Cancer Prevalence per 1000                            Days PM10   \n",
       "38   Cancer Prevalence per 1000                        Moderate Days   \n",
       "209  Cancer Prevalence per 1000                            Good Days   \n",
       "40   Cancer Prevalence per 1000                             Latitude   \n",
       "55   Cancer Prevalence per 1000                       Unhealthy Days   \n",
       "74   Cancer Prevalence per 1000                              Max AQI   \n",
       "163  Cancer Prevalence per 1000                            Longitude   \n",
       "98   Cancer Prevalence per 1000                     Household Income   \n",
       "161  Cancer Prevalence per 1000                    Percent Uninsured   \n",
       "158  Cancer Prevalence per 1000                           Days PM2.5   \n",
       "101  Cancer Prevalence per 1000  Unhealthy for Sensitive Groups Days   \n",
       "112  Cancer Prevalence per 1000                           Days Ozone   \n",
       "122  Cancer Prevalence per 1000                Percent Adult Smokers   \n",
       "396  Cancer Prevalence per 1000                  Very Unhealthy Days   \n",
       "397  Cancer Prevalence per 1000                       Hazardous Days   \n",
       "398  Cancer Prevalence per 1000                              Days CO   \n",
       "399  Cancer Prevalence per 1000                             Days SO2   \n",
       "\n",
       "       r_corr       abs  \n",
       "22  -0.514534  0.514534  \n",
       "27  -0.505986  0.505986  \n",
       "35  -0.434234  0.434234  \n",
       "38  -0.410362  0.410362  \n",
       "209  0.405238  0.405238  \n",
       "40  -0.402023  0.402023  \n",
       "55  -0.299060  0.299060  \n",
       "74  -0.218689  0.218689  \n",
       "163  0.156574  0.156574  \n",
       "98  -0.151105  0.151105  \n",
       "161  0.137111  0.137111  \n",
       "158  0.130085  0.130085  \n",
       "101 -0.127913  0.127913  \n",
       "112 -0.067283  0.067283  \n",
       "122 -0.051303  0.051303  \n",
       "396       NaN       NaN  \n",
       "397       NaN       NaN  \n",
       "398       NaN       NaN  \n",
       "399       NaN       NaN  "
      ]
     },
     "execution_count": 4,
     "metadata": {},
     "output_type": "execute_result"
    }
   ],
   "source": [
    "# create a table with correlation coeficients of interest\n",
    "\n",
    "corr_df1=corr_df.loc[corr_df[\"var1\"] == \"Cancer Prevalence per 1000\"]\n",
    "corr_df1=corr_df1.sort_values([\"abs\"],ascending=False)\n",
    "corr_df1"
   ]
  },
  {
   "cell_type": "code",
   "execution_count": 5,
   "metadata": {},
   "outputs": [],
   "source": [
    "# Plots"
   ]
  },
  {
   "cell_type": "code",
   "execution_count": 6,
   "metadata": {},
   "outputs": [
    {
     "name": "stdout",
     "output_type": "stream",
     "text": [
      "The r-squared is: -0.47553203663776816\n"
     ]
    },
    {
     "data": {
      "image/png": "[encoded data removed]",
      "text/plain": [
       "<Figure size 432x288 with 1 Axes>"
      ]
     },
     "metadata": {
      "needs_background": "light"
     },
     "output_type": "display_data"
    }
   ],
   "source": [
    "x_values = data_df[\"Household Income\"]\n",
    "y_values = data_df[\"Percent Uninsured\"]\n",
    "\n",
    "# the linear model \n",
    "(slope, intercept, rvalue, pvalue, stderr) = linregress(x_values, y_values)\n",
    "regress_values = x_values * slope + intercept\n",
    "line_eq = \"y = \" + str(round(slope,2)) + \"x + \" + str(round(intercept,2))\n",
    "\n",
    "# Plot the linear model on top of scatter plot \n",
    "plt.scatter(x_values,y_values)\n",
    "plt.plot(x_values,regress_values,\"r-\")\n",
    "# plt.annotate(line_eq, (80000,35),fontsize=10,color=\"red\")\n",
    "\n",
    "plt.scatter(x_values,y_values, marker=\"o\", facecolors=\"blue\", edgecolors=\"black\",alpha=0.5)\n",
    "\n",
    "#labels\n",
    "plt.title(f\"Household Income vs. Percent Uninsured\")\n",
    "plt.ylabel(\"Percent Uninsured (%)\")\n",
    "plt.xlabel(\"Household Income ($)\")\n",
    "plt.grid(True)\n",
    "# Add x limits and y limits\n",
    "plt.xlim(0,130000)\n",
    "plt.ylim(0,40)\n",
    "\n",
    "# Print the correlation coeficient\n",
    "print(f\"The r-squared is: {rvalue}\")\n",
    "# Save the figure\n",
    "plt.savefig(f'output_plots/MAIncome_vs_Unninsure.png')\n",
    "\n",
    "plt.show()\n",
    "\n"
   ]
  },
  {
   "cell_type": "code",
   "execution_count": 7,
   "metadata": {},
   "outputs": [
    {
     "name": "stdout",
     "output_type": "stream",
     "text": [
      "The r-squared is: -0.15110509931002286\n"
     ]
    },
    {
     "data": {
      "image/png": "[encoded data removed]",
      "text/plain": [
       "<Figure size 432x288 with 1 Axes>"
      ]
     },
     "metadata": {
      "needs_background": "light"
     },
     "output_type": "display_data"
    }
   ],
   "source": [
    "x_values = data_df[\"Household Income\"]\n",
    "y_values = data_df[\"Cancer Prevalence per 1000\"]\n",
    "x_max = max(x_values)*1.2\n",
    "y_max = max(y_values)*1.2\n",
    "\n",
    "# the linear model \n",
    "(slope, intercept, rvalue, pvalue, stderr) = linregress(x_values, y_values)\n",
    "regress_values = x_values * slope + intercept\n",
    "line_eq = \"y = \" + str(round(slope,2)) + \"x + \" + str(round(intercept,2))\n",
    "\n",
    "# Plot the linear model on top of scatter plot \n",
    "plt.scatter(x_values,y_values)\n",
    "plt.plot(x_values,regress_values,\"r-\")\n",
    "# plt.annotate(line_eq,(80000,8),fontsize=10,color=\"red\")\n",
    "\n",
    "plt.scatter(x_values,y_values, marker=\"o\", facecolors=\"blue\", edgecolors=\"black\",alpha=0.5)\n",
    "\n",
    "#labels\n",
    "plt.title(f\"Household Income vs. Lung Cancer Prevalence per 1000\")\n",
    "plt.ylabel(\"Lung Cancer Prevalence per 1000\")\n",
    "plt.xlabel(\"Household Income ($)\")\n",
    "plt.grid(True)\n",
    "# Add x limits and y limits\n",
    "plt.xlim(0,x_max)\n",
    "plt.ylim(0,y_max)\n",
    "\n",
    "# Print the correlation coeficient\n",
    "print(f\"The r-squared is: {rvalue}\")\n",
    "# Save the figure\n",
    "plt.savefig(f'output_plots/MAIncome_vs_CancerPrevalence.png')\n",
    "\n",
    "plt.show()"
   ]
  },
  {
   "cell_type": "code",
   "execution_count": 8,
   "metadata": {},
   "outputs": [
    {
     "name": "stdout",
     "output_type": "stream",
     "text": [
      "The r-squared is: 0.1371110168821607\n"
     ]
    },
    {
     "data": {
      "image/png": "[encoded data removed]",
      "text/plain": [
       "<Figure size 432x288 with 1 Axes>"
      ]
     },
     "metadata": {
      "needs_background": "light"
     },
     "output_type": "display_data"
    }
   ],
   "source": [
    "x_values = data_df[\"Cancer Prevalence per 1000\"]\n",
    "y_values = data_df[\"Percent Uninsured\"]\n",
    "# print(max(x_values))\n",
    "# print( max(y_values))\n",
    "\n",
    "# the linear model \n",
    "(slope, intercept, rvalue, pvalue, stderr) = linregress(x_values, y_values)\n",
    "regress_values = x_values * slope + intercept\n",
    "line_eq = \"y = \" + str(round(slope,2)) + \"x + \" + str(round(intercept,2))\n",
    "\n",
    "# Plot the linear model on top of scatter plot \n",
    "# plt.scatter(x_values,y_values)\n",
    "# plt.plot(x_values,regress_values,\"r-\")\n",
    "# plt.annotate(line_eq,(10,8),fontsize=10,color=\"red\")\n",
    "\n",
    "plt.scatter(x_values,y_values, marker=\"o\", facecolors=\"blue\", edgecolors=\"black\",alpha=0.5)\n",
    "\n",
    "#labels\n",
    "plt.title(f\"Percent Uninsured vs. Lung Cancer Prevalence per 1000\")\n",
    "plt.xlabel(\"Lung Cancer Prevalence per 1000\")\n",
    "plt.ylabel(\"Percent Uninsured (%)\")\n",
    "plt.grid(True)\n",
    "# Add x limits and y limits\n",
    "plt.xlim(0,10)\n",
    "plt.ylim(0,40)\n",
    "rsq=rvalue*rvalue\n",
    "# Print the correlation coeficient\n",
    "print(f\"The r-squared is: {rvalue}\")\n",
    "# Save the figure\n",
    "plt.savefig(f'output_plots/MAuninsured_vs_CancerPrevalence.png')\n",
    "\n",
    "plt.show()\n"
   ]
  },
  {
   "cell_type": "code",
   "execution_count": 9,
   "metadata": {},
   "outputs": [
    {
     "name": "stdout",
     "output_type": "stream",
     "text": [
      "The r-squared is: -0.4342340963539988\n"
     ]
    },
    {
     "data": {
      "image/png": "[encoded data removed]",
      "text/plain": [
       "<Figure size 432x288 with 1 Axes>"
      ]
     },
     "metadata": {
      "needs_background": "light"
     },
     "output_type": "display_data"
    }
   ],
   "source": [
    "x_values = data_df[\"Cancer Prevalence per 1000\"]\n",
    "y_values = data_df[\"Days PM10\"]\n",
    "# print(max(x_values))\n",
    "# print( max(y_values))\n",
    "# the linear model \n",
    "(slope, intercept, rvalue, pvalue, stderr) = linregress(x_values, y_values)\n",
    "regress_values = x_values * slope + intercept\n",
    "line_eq = \"y = \" + str(round(slope,2)) + \"x + \" + str(round(intercept,2))\n",
    "\n",
    "# Plot the linear model on top of scatter plot \n",
    "# plt.scatter(x_values,y_values)\n",
    "# plt.plot(x_values,regress_values,\"r-\")\n",
    "# plt.annotate(line_eq,(10,8),fontsize=10,color=\"red\")\n",
    "\n",
    "plt.scatter(x_values,y_values, marker=\"o\", facecolors=\"blue\", edgecolors=\"black\",alpha=0.5)\n",
    "\n",
    "#labels\n",
    "plt.title(f\"Days PM10 vs. Lung Cancer Prevalence per 1000\")\n",
    "plt.xlabel(\"Lung Cancer Prevalence per 1000\")\n",
    "plt.ylabel(\"Days PM10\")\n",
    "plt.grid(True)\n",
    "# Add x limits and y limits\n",
    "plt.xlim(0,10)\n",
    "plt.ylim(0,400)\n",
    "\n",
    "# Print the correlation coeficient\n",
    "print(f\"The r-squared is: {rvalue}\")\n",
    "# Save the figure\n",
    "plt.savefig(f'output_plots/MAParticulatesPM10_vs_CancerPrevalence.png')\n",
    "\n",
    "plt.show()"
   ]
  },
  {
   "cell_type": "code",
   "execution_count": 10,
   "metadata": {},
   "outputs": [
    {
     "name": "stdout",
     "output_type": "stream",
     "text": [
      "The r-squared is: 0.13008481481096276\n"
     ]
    },
    {
     "data": {
      "image/png": "[encoded data removed]",
      "text/plain": [
       "<Figure size 432x288 with 1 Axes>"
      ]
     },
     "metadata": {
      "needs_background": "light"
     },
     "output_type": "display_data"
    }
   ],
   "source": [
    "x_values = data_df[\"Cancer Prevalence per 1000\"]\n",
    "y_values = data_df[\"Days PM2.5\"]\n",
    "# print(max(x_values))\n",
    "# print( max(y_values))\n",
    "# the linear model \n",
    "(slope, intercept, rvalue, pvalue, stderr) = linregress(x_values, y_values)\n",
    "regress_values = x_values * slope + intercept\n",
    "line_eq = \"y = \" + str(round(slope,2)) + \"x + \" + str(round(intercept,2))\n",
    "\n",
    "# Plot the linear model on top of scatter plot \n",
    "# plt.scatter(x_values,y_values)\n",
    "# plt.plot(x_values,regress_values,\"r-\")\n",
    "# plt.annotate(line_eq,(10,8),fontsize=10,color=\"red\")\n",
    "\n",
    "plt.scatter(x_values,y_values, marker=\"o\", facecolors=\"blue\", edgecolors=\"black\",alpha=0.5)\n",
    "\n",
    "#labels\n",
    "plt.title(f\"Days PM2.5 vs. Lung Cancer Prevalence per 1000\")\n",
    "plt.xlabel(\"Lung Cancer Prevalence per 1000\")\n",
    "plt.ylabel(\"Days PM2.5\")\n",
    "plt.grid(True)\n",
    "# Add x limits and y limits\n",
    "plt.xlim(0,10)\n",
    "plt.ylim(0,400)\n",
    "\n",
    "# Print the correlation coeficient\n",
    "print(f\"The r-squared is: {rvalue}\")\n",
    "# Save the figure\n",
    "plt.savefig(f'output_plots/MAParticulatesPM25_vs_CancerPrevalence.png')\n",
    "\n",
    "plt.show()"
   ]
  },
  {
   "cell_type": "code",
   "execution_count": 11,
   "metadata": {},
   "outputs": [
    {
     "name": "stdout",
     "output_type": "stream",
     "text": [
      "The r-squared is: -0.06728258884225471\n"
     ]
    },
    {
     "data": {
      "image/png": "[encoded data removed]",
      "text/plain": [
       "<Figure size 432x288 with 1 Axes>"
      ]
     },
     "metadata": {
      "needs_background": "light"
     },
     "output_type": "display_data"
    }
   ],
   "source": [
    "\n",
    "x_values = data_df[\"Cancer Prevalence per 1000\"]\n",
    "y_values = data_df[\"Days Ozone\"]\n",
    "# print(max(x_values))\n",
    "# print( max(y_values))\n",
    "# the linear model \n",
    "(slope, intercept, rvalue, pvalue, stderr) = linregress(x_values, y_values)\n",
    "regress_values = x_values * slope + intercept\n",
    "line_eq = \"y = \" + str(round(slope,2)) + \"x + \" + str(round(intercept,2))\n",
    "\n",
    "# Plot the linear model on top of scatter plot \n",
    "# plt.scatter(x_values,y_values)\n",
    "# plt.plot(x_values,regress_values,\"r-\")\n",
    "# plt.annotate(line_eq,(10,8),fontsize=10,color=\"red\")\n",
    "\n",
    "plt.scatter(x_values,y_values, marker=\"o\", facecolors=\"blue\", edgecolors=\"black\",alpha=0.5)\n",
    "\n",
    "#labels\n",
    "plt.title(f\"Days Ozone vs. Lung Cancer Prevalence per 1000\")\n",
    "plt.xlabel(\"Lung Cancer Prevalence per 1000\")\n",
    "plt.ylabel(\"Days Ozone\")\n",
    "plt.grid(True)\n",
    "# Add x limits and y limits\n",
    "plt.xlim(0,10)\n",
    "plt.ylim(0,400)\n",
    "rsq=rvalue*rvalue\n",
    "# Print the correlation coeficient\n",
    "print(f\"The r-squared is: {rvalue}\")\n",
    "# Save the figure\n",
    "plt.savefig(f'output_plots/MAOzone_vs_CancerPrevalence.png')\n",
    "\n",
    "plt.show()"
   ]
  },
  {
   "cell_type": "markdown",
   "metadata": {},
   "source": [
    "## Heatmap "
   ]
  },
  {
   "cell_type": "code",
   "execution_count": 13,
   "metadata": {},
   "outputs": [],
   "source": [
    "# Configure gmaps with API key\n",
    "gmaps.configure(api_key=gkey)\n"
   ]
  },
  {
   "cell_type": "code",
   "execution_count": 14,
   "metadata": {},
   "outputs": [],
   "source": [
    "# Store 'Lat' and 'Lng' into  locations \n",
    "locations = data_df[[\"Latitude\", \"Longitude\"]].astype(float)\n",
    "\n",
    "# Convert Poverty Rate to float and store\n",
    "income_rate = data_df[\"Household Income\"].astype(float)\n",
    "smokers_rate = data_df[\"Percent Adult Smokers\"].astype(float)\n",
    "cancer_rate = data_df[\"Cancer Prevalence per 1000\"].astype(float)"
   ]
  },
  {
   "cell_type": "code",
   "execution_count": 15,
   "metadata": {},
   "outputs": [
    {
     "data": {
      "application/vnd.jupyter.widget-view+json": {
       "model_id": "907c7d9c0a09418f95edeb43bafb99c6",
       "version_major": 2,
       "version_minor": 0
      },
      "text/plain": [
       "Figure(layout=FigureLayout(height='420px'))"
      ]
     },
     "metadata": {},
     "output_type": "display_data"
    },
    {
     "data": {
      "text/plain": [
       "<Figure size 432x288 with 0 Axes>"
      ]
     },
     "metadata": {},
     "output_type": "display_data"
    }
   ],
   "source": [
    "# Create a  Heatmap layer\n",
    "fig = gmaps.figure()\n",
    "heat_layer = gmaps.heatmap_layer(locations, weights=income_rate, \n",
    "                                 dissipating=False, max_intensity=100000,\n",
    "                                 point_radius = 0.3)\n",
    "fig.add_layer(heat_layer)\n",
    "plt.savefig(f'output_plots/CancerMAheatmap.png')\n",
    "fig"
   ]
  },
  {
   "cell_type": "code",
   "execution_count": 16,
   "metadata": {},
   "outputs": [
    {
     "data": {
      "application/vnd.jupyter.widget-view+json": {
       "model_id": "5bdfd3d8fc474bfd8be0a621139826a9",
       "version_major": 2,
       "version_minor": 0
      },
      "text/plain": [
       "Figure(layout=FigureLayout(height='420px'))"
      ]
     },
     "metadata": {},
     "output_type": "display_data"
    }
   ],
   "source": [
    "# Create  Heatmap layer\n",
    "fig = gmaps.figure()\n",
    "heat_layer2 = gmaps.heatmap_layer(locations, weights=cancer_rate, \n",
    "                                 dissipating=False, max_intensity=5,\n",
    "                                 point_radius = 0.4)\n",
    "fig.add_layer(heat_layer2)\n",
    "\n",
    "fig\n"
   ]
  },
  {
   "cell_type": "code",
   "execution_count": 17,
   "metadata": {},
   "outputs": [],
   "source": [
    "# # Create a combined map\n",
    "# fig = gmaps.figure()\n",
    "\n",
    "# fig.add_layer(heat_layer2)\n",
    "# fig.add_layer(heat_layer)\n",
    "\n",
    "# fig"
   ]
  },
  {
   "cell_type": "code",
   "execution_count": null,
   "metadata": {},
   "outputs": [],
   "source": []
  }
 ],
 "metadata": {
  "kernelspec": {
   "display_name": "Python 3",
   "language": "python",
   "name": "python3"
  },
  "language_info": {
   "codemirror_mode": {
    "name": "ipython",
    "version": 3
   },
   "file_extension": ".py",
   "mimetype": "text/x-python",
   "name": "python",
   "nbconvert_exporter": "python",
   "pygments_lexer": "ipython3",
   "version": "3.7.3"
  }
 },
 "nbformat": 4,
 "nbformat_minor": 2
}
